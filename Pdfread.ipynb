{
  "nbformat": 4,
  "nbformat_minor": 0,
  "metadata": {
    "colab": {
      "name": "Pdfread.ipynb",
      "version": "0.3.2",
      "provenance": [],
      "include_colab_link": true
    },
    "kernelspec": {
      "name": "python3",
      "display_name": "Python 3"
    }
  },
  "cells": [
    {
      "cell_type": "markdown",
      "metadata": {
        "id": "view-in-github",
        "colab_type": "text"
      },
      "source": [
        "<a href=\"https://colab.research.google.com/github/harshmangal1108/python_adhoc/blob/master/Pdfread.ipynb\" target=\"_parent\"><img src=\"https://colab.research.google.com/assets/colab-badge.svg\" alt=\"Open In Colab\"/></a>"
      ]
    },
    {
      "cell_type": "code",
      "metadata": {
        "id": "kI6jQLBGSvQ3",
        "colab_type": "code",
        "colab": {
          "base_uri": "https://localhost:8080/",
          "height": 193
        },
        "outputId": "e7749041-cbe7-4849-8463-185fa5549c68"
      },
      "source": [
        "!pip3 install PyPDF2"
      ],
      "execution_count": 2,
      "outputs": [
        {
          "output_type": "stream",
          "text": [
            "Collecting PyPDF2\n",
            "\u001b[?25l  Downloading https://files.pythonhosted.org/packages/b4/01/68fcc0d43daf4c6bdbc6b33cc3f77bda531c86b174cac56ef0ffdb96faab/PyPDF2-1.26.0.tar.gz (77kB)\n",
            "\u001b[K     |████████████████████████████████| 81kB 3.1MB/s \n",
            "\u001b[?25hBuilding wheels for collected packages: PyPDF2\n",
            "  Building wheel for PyPDF2 (setup.py) ... \u001b[?25l\u001b[?25hdone\n",
            "  Stored in directory: /root/.cache/pip/wheels/53/84/19/35bc977c8bf5f0c23a8a011aa958acd4da4bbd7a229315c1b7\n",
            "Successfully built PyPDF2\n",
            "Installing collected packages: PyPDF2\n",
            "Successfully installed PyPDF2-1.26.0\n"
          ],
          "name": "stdout"
        }
      ]
    },
    {
      "cell_type": "code",
      "metadata": {
        "id": "lhffYR6KS3Ag",
        "colab_type": "code",
        "colab": {}
      },
      "source": [
        "## IMPORT PDF MODULE\n",
        "import PyPDF2 as pdf"
      ],
      "execution_count": 0,
      "outputs": []
    },
    {
      "cell_type": "code",
      "metadata": {
        "id": "M86th5-WS_rf",
        "colab_type": "code",
        "colab": {}
      },
      "source": [
        "## OPENING PDF FILE\n",
        "file=open('Sub-Queries-Constraints.pdf','rb') "
      ],
      "execution_count": 0,
      "outputs": []
    },
    {
      "cell_type": "code",
      "metadata": {
        "id": "gGCDv_maTWPD",
        "colab_type": "code",
        "colab": {}
      },
      "source": [
        "## READING PDF FILE\n",
        "pdfread=pdf.PdfFileReader(file)"
      ],
      "execution_count": 0,
      "outputs": []
    },
    {
      "cell_type": "code",
      "metadata": {
        "id": "rofPpirhTtLB",
        "colab_type": "code",
        "colab": {
          "base_uri": "https://localhost:8080/",
          "height": 34
        },
        "outputId": "0f9c943e-88b1-41d1-d833-2fc445a6a740"
      },
      "source": [
        "type(pdfread)"
      ],
      "execution_count": 11,
      "outputs": [
        {
          "output_type": "execute_result",
          "data": {
            "text/plain": [
              "PyPDF2.pdf.PdfFileReader"
            ]
          },
          "metadata": {
            "tags": []
          },
          "execution_count": 11
        }
      ]
    },
    {
      "cell_type": "code",
      "metadata": {
        "id": "gTwsoh8BTvZT",
        "colab_type": "code",
        "colab": {
          "base_uri": "https://localhost:8080/",
          "height": 34
        },
        "outputId": "c5e29c4d-7cf2-4030-b7ca-5a7f6b96ccd1"
      },
      "source": [
        "## NUMBER OF PAGES IN PDF FILE\n",
        "print(pdfread.numPages)"
      ],
      "execution_count": 27,
      "outputs": [
        {
          "output_type": "stream",
          "text": [
            "2\n"
          ],
          "name": "stdout"
        }
      ]
    },
    {
      "cell_type": "code",
      "metadata": {
        "id": "DT2Z4WKDUR_g",
        "colab_type": "code",
        "colab": {}
      },
      "source": [
        "## FIRST PAGE\n",
        "page1=pdfread.getPage(0)\n",
        "page2=pdfread.getPage(1)"
      ],
      "execution_count": 0,
      "outputs": []
    },
    {
      "cell_type": "code",
      "metadata": {
        "id": "wb9a6-YwUr19",
        "colab_type": "code",
        "colab": {
          "base_uri": "https://localhost:8080/",
          "height": 1000
        },
        "outputId": "7b2562d7-2063-4ee2-83b5-6c7149eba18b"
      },
      "source": [
        "print(page1.extractText())\n",
        "print(page1.extractText())\n"
      ],
      "execution_count": 30,
      "outputs": [
        {
          "output_type": "stream",
          "text": [
            " \n",
            " \n",
            "For details Contact: +91  9292005440\n",
            " \n",
            "                            \n",
            "Mail:  datahills7@gmail.com\n",
            " \n",
            "Page \n",
            "1\n",
            " \n",
            " \n",
            "Sub\n",
            "-\n",
            "Queries & Constraints\n",
            " \n",
            " \n",
            "SUB QUERIES\n",
            ": A select statement contains \n",
            "\n",
            " \n",
            "Sub Query contains 2 kinds of Queries those are\n",
            " \n",
            "1. Outer Query\n",
            " \n",
            "2. Inner Query\n",
            " \n",
            "Outer query always depends on inner query result.\n",
            " \n",
            "Syntax:\n",
            " \n",
            "SELECT * FROM <TABLE_NAME> WHERE (CONDITION) (SELECT * FROM \n",
            "<\n",
            "\n",
            " \n",
            "ANY:\n",
            " \n",
            "The ANY comparison condition is used to compare a value to a list or \n",
            "sub query\n",
            ".\n",
            " \n",
            "Example:\n",
            " \n",
            "SELECT T1.TID, T1.PRICE FROM   TICKET T1 WHERE T1.PRICE > ANY \n",
            "(SELECT T2.PRICE FROM   TICKET T2 WHERE T2.BNO = 40);\n",
            " \n",
            "ALL:\n",
            " \n",
            "The ALL comparison condition is used to compare a value to a list or \n",
            "sub query\n",
            ".\n",
            " \n",
            "Example:\n",
            " \n",
            "SELECT T1.TID, T1.PRICE FROM   TICKET T1 WHERE T1.PRICE > ALL \n",
            "(SELECT T2.PRICE FROM   TICKET T2 WHERE T2.BNO = 40);\n",
            " \n",
            "IN:\n",
            " \n",
            "In operator will return the value as per g\n",
            "iven condition values.\n",
            " \n",
            "Example:\n",
            " \n",
            "SELECT * FROM BUS WHERE BNO IN (10,20,40);\n",
            " \n",
            "EXISTS & \n",
            "NOT EXIST:\n",
            " \n",
            "If sub query will return any value then EXISTS will be TRUE and \n",
            "NOT EXISTS will be FALSE\n",
            " \n",
            "Example 1:\n",
            " \n",
            "SELECT * FROM TICKET T WHERE EXISTS (SELECT * FROM \n",
            "RESERVATION R WHERE T.TID=R.TID);\n",
            " \n",
            "Example 2:\n",
            " \n",
            "SELECT * FROM TICKET T WHERE NOT EXISTS (SELECT * FROM \n",
            "RESERVATION R WHERE T.TID=R.TID);\n",
            " \n",
            "UNION:\n",
            " \n",
            "Union operator will returns unique values from the tables.\n",
            " \n",
            "Example:\n",
            " \n",
            "SELECT * FROM RESERVATION UNION SELECT * FROM \n",
            "CANCELLATION;\n",
            " \n",
            "INTERSECT:\n",
            " \n",
            "Intersect operator will returns common values from the tables.\n",
            " \n",
            "Example:\n",
            " \n",
            "SELECT * FROM RESERVATION INTERSECT SELECT * FROM \n",
            "CANCELLATION;\n",
            " \n",
            " \n",
            " \n",
            "\n",
            " \n",
            " \n",
            "For details Contact: +91  9292005440\n",
            " \n",
            "                            \n",
            "Mail:  datahills7@gmail.com\n",
            " \n",
            "Page \n",
            "1\n",
            " \n",
            " \n",
            "Sub\n",
            "-\n",
            "Queries & Constraints\n",
            " \n",
            " \n",
            "SUB QUERIES\n",
            ": A select statement contains \n",
            "\n",
            " \n",
            "Sub Query contains 2 kinds of Queries those are\n",
            " \n",
            "1. Outer Query\n",
            " \n",
            "2. Inner Query\n",
            " \n",
            "Outer query always depends on inner query result.\n",
            " \n",
            "Syntax:\n",
            " \n",
            "SELECT * FROM <TABLE_NAME> WHERE (CONDITION) (SELECT * FROM \n",
            "<\n",
            "\n",
            " \n",
            "ANY:\n",
            " \n",
            "The ANY comparison condition is used to compare a value to a list or \n",
            "sub query\n",
            ".\n",
            " \n",
            "Example:\n",
            " \n",
            "SELECT T1.TID, T1.PRICE FROM   TICKET T1 WHERE T1.PRICE > ANY \n",
            "(SELECT T2.PRICE FROM   TICKET T2 WHERE T2.BNO = 40);\n",
            " \n",
            "ALL:\n",
            " \n",
            "The ALL comparison condition is used to compare a value to a list or \n",
            "sub query\n",
            ".\n",
            " \n",
            "Example:\n",
            " \n",
            "SELECT T1.TID, T1.PRICE FROM   TICKET T1 WHERE T1.PRICE > ALL \n",
            "(SELECT T2.PRICE FROM   TICKET T2 WHERE T2.BNO = 40);\n",
            " \n",
            "IN:\n",
            " \n",
            "In operator will return the value as per g\n",
            "iven condition values.\n",
            " \n",
            "Example:\n",
            " \n",
            "SELECT * FROM BUS WHERE BNO IN (10,20,40);\n",
            " \n",
            "EXISTS & \n",
            "NOT EXIST:\n",
            " \n",
            "If sub query will return any value then EXISTS will be TRUE and \n",
            "NOT EXISTS will be FALSE\n",
            " \n",
            "Example 1:\n",
            " \n",
            "SELECT * FROM TICKET T WHERE EXISTS (SELECT * FROM \n",
            "RESERVATION R WHERE T.TID=R.TID);\n",
            " \n",
            "Example 2:\n",
            " \n",
            "SELECT * FROM TICKET T WHERE NOT EXISTS (SELECT * FROM \n",
            "RESERVATION R WHERE T.TID=R.TID);\n",
            " \n",
            "UNION:\n",
            " \n",
            "Union operator will returns unique values from the tables.\n",
            " \n",
            "Example:\n",
            " \n",
            "SELECT * FROM RESERVATION UNION SELECT * FROM \n",
            "CANCELLATION;\n",
            " \n",
            "INTERSECT:\n",
            " \n",
            "Intersect operator will returns common values from the tables.\n",
            " \n",
            "Example:\n",
            " \n",
            "SELECT * FROM RESERVATION INTERSECT SELECT * FROM \n",
            "CANCELLATION;\n",
            " \n",
            " \n",
            " \n",
            "\n"
          ],
          "name": "stdout"
        }
      ]
    },
    {
      "cell_type": "code",
      "metadata": {
        "id": "w77FPPkzUtIs",
        "colab_type": "code",
        "colab": {}
      },
      "source": [
        ""
      ],
      "execution_count": 0,
      "outputs": []
    }
  ]
}